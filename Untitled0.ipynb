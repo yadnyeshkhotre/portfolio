{
  "nbformat": 4,
  "nbformat_minor": 0,
  "metadata": {
    "colab": {
      "name": "Untitled0.ipynb",
      "provenance": [],
      "collapsed_sections": [],
      "authorship_tag": "ABX9TyNDbQJVSVS7fgMb/Q3vZUJG",
      "include_colab_link": true
    },
    "kernelspec": {
      "name": "python3",
      "display_name": "Python 3"
    },
    "language_info": {
      "name": "python"
    }
  },
  "cells": [
    {
      "cell_type": "markdown",
      "metadata": {
        "id": "view-in-github",
        "colab_type": "text"
      },
      "source": [
        "<a href=\"https://colab.research.google.com/github/yadnyeshkhotre/portfolio/blob/main/Untitled0.ipynb\" target=\"_parent\"><img src=\"https://colab.research.google.com/assets/colab-badge.svg\" alt=\"Open In Colab\"/></a>"
      ]
    },
    {
      "cell_type": "code",
      "execution_count": 1,
      "metadata": {
        "id": "6uWKmx_a8DOd"
      },
      "outputs": [],
      "source": [
        "#This is a 'smar' chatbot program"
      ]
    },
    {
      "cell_type": "code",
      "source": [
        "pip install nltk\n"
      ],
      "metadata": {
        "colab": {
          "base_uri": "https://localhost:8080/"
        },
        "id": "-fK8Gcp68Viu",
        "outputId": "2581a2c4-d232-4eb1-a2c6-d553ee778cc6"
      },
      "execution_count": 30,
      "outputs": [
        {
          "output_type": "stream",
          "name": "stdout",
          "text": [
            "Looking in indexes: https://pypi.org/simple, https://us-python.pkg.dev/colab-wheels/public/simple/\n",
            "Requirement already satisfied: nltk in /usr/local/lib/python3.7/dist-packages (3.7)\n",
            "Requirement already satisfied: regex>=2021.8.3 in /usr/local/lib/python3.7/dist-packages (from nltk) (2022.6.2)\n",
            "Requirement already satisfied: click in /usr/local/lib/python3.7/dist-packages (from nltk) (7.1.2)\n",
            "Requirement already satisfied: tqdm in /usr/local/lib/python3.7/dist-packages (from nltk) (4.64.0)\n",
            "Requirement already satisfied: joblib in /usr/local/lib/python3.7/dist-packages (from nltk) (1.1.0)\n"
          ]
        }
      ]
    },
    {
      "cell_type": "code",
      "source": [
        "pip install newspaper3k\n"
      ],
      "metadata": {
        "colab": {
          "base_uri": "https://localhost:8080/"
        },
        "id": "4fN1DMmp8bCk",
        "outputId": "c7d7c870-9a90-40b2-96a9-b460d28c52b2"
      },
      "execution_count": 3,
      "outputs": [
        {
          "output_type": "stream",
          "name": "stdout",
          "text": [
            "Looking in indexes: https://pypi.org/simple, https://us-python.pkg.dev/colab-wheels/public/simple/\n",
            "Collecting newspaper3k\n",
            "  Downloading newspaper3k-0.2.8-py3-none-any.whl (211 kB)\n",
            "\u001b[K     |████████████████████████████████| 211 kB 5.3 MB/s \n",
            "\u001b[?25hCollecting feedfinder2>=0.0.4\n",
            "  Downloading feedfinder2-0.0.4.tar.gz (3.3 kB)\n",
            "Requirement already satisfied: Pillow>=3.3.0 in /usr/local/lib/python3.7/dist-packages (from newspaper3k) (7.1.2)\n",
            "Requirement already satisfied: beautifulsoup4>=4.4.1 in /usr/local/lib/python3.7/dist-packages (from newspaper3k) (4.6.3)\n",
            "Requirement already satisfied: python-dateutil>=2.5.3 in /usr/local/lib/python3.7/dist-packages (from newspaper3k) (2.8.2)\n",
            "Collecting tinysegmenter==0.3\n",
            "  Downloading tinysegmenter-0.3.tar.gz (16 kB)\n",
            "Requirement already satisfied: requests>=2.10.0 in /usr/local/lib/python3.7/dist-packages (from newspaper3k) (2.23.0)\n",
            "Collecting cssselect>=0.9.2\n",
            "  Downloading cssselect-1.1.0-py2.py3-none-any.whl (16 kB)\n",
            "Collecting feedparser>=5.2.1\n",
            "  Downloading feedparser-6.0.10-py3-none-any.whl (81 kB)\n",
            "\u001b[K     |████████████████████████████████| 81 kB 8.6 MB/s \n",
            "\u001b[?25hRequirement already satisfied: PyYAML>=3.11 in /usr/local/lib/python3.7/dist-packages (from newspaper3k) (3.13)\n",
            "Collecting tldextract>=2.0.1\n",
            "  Downloading tldextract-3.3.1-py3-none-any.whl (93 kB)\n",
            "\u001b[K     |████████████████████████████████| 93 kB 2.0 MB/s \n",
            "\u001b[?25hRequirement already satisfied: nltk>=3.2.1 in /usr/local/lib/python3.7/dist-packages (from newspaper3k) (3.7)\n",
            "Requirement already satisfied: lxml>=3.6.0 in /usr/local/lib/python3.7/dist-packages (from newspaper3k) (4.9.1)\n",
            "Collecting jieba3k>=0.35.1\n",
            "  Downloading jieba3k-0.35.1.zip (7.4 MB)\n",
            "\u001b[K     |████████████████████████████████| 7.4 MB 47.0 MB/s \n",
            "\u001b[?25hRequirement already satisfied: six in /usr/local/lib/python3.7/dist-packages (from feedfinder2>=0.0.4->newspaper3k) (1.15.0)\n",
            "Collecting sgmllib3k\n",
            "  Downloading sgmllib3k-1.0.0.tar.gz (5.8 kB)\n",
            "Requirement already satisfied: joblib in /usr/local/lib/python3.7/dist-packages (from nltk>=3.2.1->newspaper3k) (1.1.0)\n",
            "Requirement already satisfied: click in /usr/local/lib/python3.7/dist-packages (from nltk>=3.2.1->newspaper3k) (7.1.2)\n",
            "Requirement already satisfied: tqdm in /usr/local/lib/python3.7/dist-packages (from nltk>=3.2.1->newspaper3k) (4.64.0)\n",
            "Requirement already satisfied: regex>=2021.8.3 in /usr/local/lib/python3.7/dist-packages (from nltk>=3.2.1->newspaper3k) (2022.6.2)\n",
            "Requirement already satisfied: idna<3,>=2.5 in /usr/local/lib/python3.7/dist-packages (from requests>=2.10.0->newspaper3k) (2.10)\n",
            "Requirement already satisfied: chardet<4,>=3.0.2 in /usr/local/lib/python3.7/dist-packages (from requests>=2.10.0->newspaper3k) (3.0.4)\n",
            "Requirement already satisfied: certifi>=2017.4.17 in /usr/local/lib/python3.7/dist-packages (from requests>=2.10.0->newspaper3k) (2022.6.15)\n",
            "Requirement already satisfied: urllib3!=1.25.0,!=1.25.1,<1.26,>=1.21.1 in /usr/local/lib/python3.7/dist-packages (from requests>=2.10.0->newspaper3k) (1.24.3)\n",
            "Collecting requests-file>=1.4\n",
            "  Downloading requests_file-1.5.1-py2.py3-none-any.whl (3.7 kB)\n",
            "Requirement already satisfied: filelock>=3.0.8 in /usr/local/lib/python3.7/dist-packages (from tldextract>=2.0.1->newspaper3k) (3.8.0)\n",
            "Building wheels for collected packages: tinysegmenter, feedfinder2, jieba3k, sgmllib3k\n",
            "  Building wheel for tinysegmenter (setup.py) ... \u001b[?25l\u001b[?25hdone\n",
            "  Created wheel for tinysegmenter: filename=tinysegmenter-0.3-py3-none-any.whl size=13553 sha256=efac375186788c313fafbca3efe1292b1f6a45fc052a662939bdc063073ab44c\n",
            "  Stored in directory: /root/.cache/pip/wheels/df/67/41/faca10fa501ca010be41b49d40360c2959e1c4f09bcbfa37fa\n",
            "  Building wheel for feedfinder2 (setup.py) ... \u001b[?25l\u001b[?25hdone\n",
            "  Created wheel for feedfinder2: filename=feedfinder2-0.0.4-py3-none-any.whl size=3357 sha256=6accb528d80d80a31a3533e25a156a4523f6eb6a3895da969a60cb393ba1b353\n",
            "  Stored in directory: /root/.cache/pip/wheels/7f/d4/8f/6e2ca54744c9d7292d88ddb8d42876bcdab5e6d84a21c10346\n",
            "  Building wheel for jieba3k (setup.py) ... \u001b[?25l\u001b[?25hdone\n",
            "  Created wheel for jieba3k: filename=jieba3k-0.35.1-py3-none-any.whl size=7398404 sha256=2db1e54a6e100719a8f07cad49a02f4450d485556f46e0d14eb9436c90d56d6a\n",
            "  Stored in directory: /root/.cache/pip/wheels/4c/91/46/3c208287b726df325a5979574324878b679116e4baae1af3c3\n",
            "  Building wheel for sgmllib3k (setup.py) ... \u001b[?25l\u001b[?25hdone\n",
            "  Created wheel for sgmllib3k: filename=sgmllib3k-1.0.0-py3-none-any.whl size=6066 sha256=efd36ae2407538fac1ee818aca6cbd086d1bffd8edc6676e1b6ff7019f404405\n",
            "  Stored in directory: /root/.cache/pip/wheels/73/ad/a4/0dff4a6ef231fc0dfa12ffbac2a36cebfdddfe059f50e019aa\n",
            "Successfully built tinysegmenter feedfinder2 jieba3k sgmllib3k\n",
            "Installing collected packages: sgmllib3k, requests-file, tldextract, tinysegmenter, jieba3k, feedparser, feedfinder2, cssselect, newspaper3k\n",
            "Successfully installed cssselect-1.1.0 feedfinder2-0.0.4 feedparser-6.0.10 jieba3k-0.35.1 newspaper3k-0.2.8 requests-file-1.5.1 sgmllib3k-1.0.0 tinysegmenter-0.3 tldextract-3.3.1\n"
          ]
        }
      ]
    },
    {
      "cell_type": "code",
      "source": [
        "#Import the libraries\n",
        "from newspaper import Article\n",
        "import random \n",
        "import string\n",
        "import nltk\n",
        "from sklearn.feature_extraction.text import CountVectorizer\n",
        "from sklearn.metrics.pairwise import cosine_similarity\n",
        "import numpy as np\n",
        "import warnings \n",
        "warnings.filterwarnings('ignore')\n",
        "\n"
      ],
      "metadata": {
        "id": "L0evneQ88qFc"
      },
      "execution_count": 31,
      "outputs": []
    },
    {
      "cell_type": "code",
      "source": [
        "#Download the punkt pacakage\n",
        "nltk.download('punkt',quiet=True)"
      ],
      "metadata": {
        "colab": {
          "base_uri": "https://localhost:8080/"
        },
        "id": "3I6S014EC50e",
        "outputId": "2610d790-2997-4f63-d89e-531047c4b50c"
      },
      "execution_count": 32,
      "outputs": [
        {
          "output_type": "execute_result",
          "data": {
            "text/plain": [
              "True"
            ]
          },
          "metadata": {},
          "execution_count": 32
        }
      ]
    },
    {
      "cell_type": "code",
      "source": [
        "#Get the article\n",
        "article=Article('https://en.wikipedia.org/wiki/All_India_Council_for_Technical_Education')\n",
        "article.download()\n",
        "article.parse()\n",
        "article.nlp()\n",
        "corpus=article.text"
      ],
      "metadata": {
        "id": "NrGkoWnnDTB2"
      },
      "execution_count": 37,
      "outputs": []
    },
    {
      "cell_type": "code",
      "source": [
        "#print article text\n",
        "print(corpus)"
      ],
      "metadata": {
        "colab": {
          "base_uri": "https://localhost:8080/"
        },
        "id": "pWoIH1mdDsKs",
        "outputId": "ca6927ef-c4fc-4435-f018-7f3376347444"
      },
      "execution_count": 38,
      "outputs": [
        {
          "output_type": "stream",
          "name": "stdout",
          "text": [
            "Indian statutory body\n",
            "\n",
            "The All India Council for Technical Education (AICTE) is a statutory body, and a national-level council for technical education, under the Department of Higher Education.[6] Established in November 1945 first as an advisory body and later on in 1987 given statutory status by an Act of Parliament, AICTE is responsible for proper planning and coordinated development of the technical education and management education system in India.\n",
            "\n",
            "It is assisted by 10 Statutory Boards of Studies, namely, UG Studies in Eng. & Tech., PG and Research in Eng. and Tech., Management Studies, Vocational Education, Technical Education, Pharmaceutical Education, Architecture, Hotel Management and Catering Technology, Information Technology, Town and Country Planning. The AICTE has its new headquarters building in Delhi on the Nelson Mandela Road, Vasant Kunj, New Delhi, 110 067, which has the offices of the chairman, vice-chairman and the member secretary, plus it has regional offices at Kanpur, Chandigarh, Gurgaon, Mumbai, Bhopal, Vadodara, Kolkata, Guwahati, Bangalore, Hyderabad, Chennai and Thiruvananthapuram.[7]\n",
            "\n",
            "In its 25 April 2013 judgment, the Supreme Court said \"as per provisions of the AICTE Act and University Grants Commission (UGC) Act, the council has no authority which empowers it to issue or enforce any sanctions on colleges affiliated with the universities as its role is to provide only guidance and recommendations.\" Subsequently, AICTE was getting approval from the Supreme court to regulate technical colleges on a year to year basis till January 2016, when AICTE got blanket approval for publishing the Approval Process Handbook and approve technical colleges including management for the session 2016-17 and in all future sessions.\"[8]\n",
            "\n",
            "Objectives [ edit ]\n",
            "\n",
            "According to the All India Council for Technical Education, 1987, the AICTE is vested with statutory authority for planning, formulation and maintenance of norms and standards, quality assurance through school accreditation, funding in priority areas, monitoring and evaluation, maintaining parity of certification and awards and ensuring coordinated and integrated development and management of technical education in the country.[9] In the words of the Act itself:\n",
            "\n",
            "To provide for establishment of an All India council for Technical Education with a view to the proper planning and co-ordinated development of the technical education system throughout the country, the promotion of qualitative improvement of such education in relation to planned quantitative growth and the regulation and proper maintenance of norms and standards in the technical education system and for matters connected therewith.\n",
            "\n",
            "AICTE bureaus [ edit ]\n",
            "\n",
            "The AICTE is composed of the e-Governance, Approval, Planning and Coordination, Academic, University, Administration, Finance, and Research, Institutional and Faculty Development Bureaus. There are 10 additional Board Studies dealing with technician, vocational, undergraduate engineering, postgraduate engineering and research, architecture, town and country planning, pharmacy, management, applied arts and crafts, hotel management and catering technology education. For each bureau, adviser is the bureau head who is assisted by technical officers and other supporting staff. The multidiscipline technical officer and staff of the Council are on deputation or on contract from government departments, University Grants Commission, academic institutions, etc.\n",
            "\n",
            "Increase in approved institutions [ edit ]\n",
            "\n",
            "Growth of Technical Institutions in the Country[10]\n",
            "\n",
            "Year Engineering Management MCA Pharmacy Architecture HMCT Total 2006–07 1511 1132 1003 665 116 64 4491 2007–08 1668 1149 1017 854 116 81 4885 2008–09 2388 1523 1095 1021 116 87 6230 2009–10 2972 1940 1169 1081 106 93 7361 2010–11 3222 2262 1198 1114 108 100 8004 2011–12 3393 2385 1228 1137 116 102 8361 2012–13 3495 2450 1241 1145 126 105 8562 2013–14 3384 2450 1241 1031 105 81 8562 2014–15 3392 2450 1241 1025 114 77 8562 2015–16 3364 2450 1241 1027 117 77 8562 2016–17 3288 2450 1241 1034 115 74\n",
            "\n",
            "Growth of Seats in different Programs in Technical Institutions[10]\n",
            "\n",
            "Year Engineering Management MCA Pharmacy Architecture HMCT Total 2005–06 499697 – – 32708 4379 4435 541219 2006–07 550986 94704 56805 39517 4543 4242 750797 2007–08 653290 121867 70513 52334 4543 5275 907822 2008–09 841018 149555 73995 64211 4543 5794 1139116 2009–10 1071896 179561 78293 68537 4133 6387 1408807 2010–11 1314594 277811 87216 98746 4991 7393 1790751 2011–12 1485894 352571 92216 102746 5491 7693 2046611 2012–13 1761976 385008 100700 121652 5996 8401 2236743\n",
            "\n",
            "Reforms [ edit ]\n",
            "\n",
            "In 2016, three important initiatives were taken up by AICTE. First one was a responsibility given by MHRD to evolve a national MOOCs platform SWAYAM. Second one is that of launching a Smart India Hackathon-2017 challenging the young bright talented students of technical colleges to solve the 598 problems of 29 different Government departments. Third one is that of launching of an AICTE's Student Start up Policy by Hon. President on 16 Nov, during visitors conference from rashtrapati Bhavan. In 2009, the Union Minister of Education formally communicated his intentions of closing down AICTE and related body, the University Grants Commission (UGC).[11] This later led to reforms in the way the AICTE approves institutes, and to establishing the National Board of Accreditation (NBA) as an independent body.[12]\n",
            "\n",
            "On 6 June 2017, Prime Minister Narendra Modi announced that the AICTE along with the University Grants Commission would be scrapped and replaced by a new body called Heera (Higher Education Empowerment Regulation Agency (HEERA).[13] This has been done in a bid to simplify the excessive regulations that exist due to both these bodies. According to the draft of law backed on the ideas of NITI Aayog and the Prime Minister Office, the National Council for Teacher Education was also planned to be subsumed by HEERA.[14]\n",
            "\n",
            "See also [ edit ]\n"
          ]
        }
      ]
    },
    {
      "cell_type": "code",
      "source": [
        "#Tokenization\n",
        "text=corpus\n",
        "sentence_list=nltk.sent_tokenize(text)  #A list of sentences"
      ],
      "metadata": {
        "id": "zZeWQLfREkos"
      },
      "execution_count": 39,
      "outputs": []
    },
    {
      "cell_type": "code",
      "source": [
        "from nltk.translate.bleu_score import sentence_bleu\n",
        "#print the list of sentences\n",
        "print(sentence_list)"
      ],
      "metadata": {
        "colab": {
          "base_uri": "https://localhost:8080/"
        },
        "id": "_fTQm6R9FKns",
        "outputId": "8876c804-6192-4e06-c701-e78f771b9b70"
      },
      "execution_count": 40,
      "outputs": [
        {
          "output_type": "stream",
          "name": "stdout",
          "text": [
            "['Indian statutory body\\n\\nThe All India Council for Technical Education (AICTE) is a statutory body, and a national-level council for technical education, under the Department of Higher Education.', '[6] Established in November 1945 first as an advisory body and later on in 1987 given statutory status by an Act of Parliament, AICTE is responsible for proper planning and coordinated development of the technical education and management education system in India.', 'It is assisted by 10 Statutory Boards of Studies, namely, UG Studies in Eng.', '& Tech., PG and Research in Eng.', 'and Tech., Management Studies, Vocational Education, Technical Education, Pharmaceutical Education, Architecture, Hotel Management and Catering Technology, Information Technology, Town and Country Planning.', 'The AICTE has its new headquarters building in Delhi on the Nelson Mandela Road, Vasant Kunj, New Delhi, 110 067, which has the offices of the chairman, vice-chairman and the member secretary, plus it has regional offices at Kanpur, Chandigarh, Gurgaon, Mumbai, Bhopal, Vadodara, Kolkata, Guwahati, Bangalore, Hyderabad, Chennai and Thiruvananthapuram.', '[7]\\n\\nIn its 25 April 2013 judgment, the Supreme Court said \"as per provisions of the AICTE Act and University Grants Commission (UGC) Act, the council has no authority which empowers it to issue or enforce any sanctions on colleges affiliated with the universities as its role is to provide only guidance and recommendations.\"', 'Subsequently, AICTE was getting approval from the Supreme court to regulate technical colleges on a year to year basis till January 2016, when AICTE got blanket approval for publishing the Approval Process Handbook and approve technical colleges including management for the session 2016-17 and in all future sessions.', '\"[8]\\n\\nObjectives [ edit ]\\n\\nAccording to the All India Council for Technical Education, 1987, the AICTE is vested with statutory authority for planning, formulation and maintenance of norms and standards, quality assurance through school accreditation, funding in priority areas, monitoring and evaluation, maintaining parity of certification and awards and ensuring coordinated and integrated development and management of technical education in the country.', '[9] In the words of the Act itself:\\n\\nTo provide for establishment of an All India council for Technical Education with a view to the proper planning and co-ordinated development of the technical education system throughout the country, the promotion of qualitative improvement of such education in relation to planned quantitative growth and the regulation and proper maintenance of norms and standards in the technical education system and for matters connected therewith.', 'AICTE bureaus [ edit ]\\n\\nThe AICTE is composed of the e-Governance, Approval, Planning and Coordination, Academic, University, Administration, Finance, and Research, Institutional and Faculty Development Bureaus.', 'There are 10 additional Board Studies dealing with technician, vocational, undergraduate engineering, postgraduate engineering and research, architecture, town and country planning, pharmacy, management, applied arts and crafts, hotel management and catering technology education.', 'For each bureau, adviser is the bureau head who is assisted by technical officers and other supporting staff.', 'The multidiscipline technical officer and staff of the Council are on deputation or on contract from government departments, University Grants Commission, academic institutions, etc.', 'Increase in approved institutions [ edit ]\\n\\nGrowth of Technical Institutions in the Country[10]\\n\\nYear Engineering Management MCA Pharmacy Architecture HMCT Total 2006–07 1511 1132 1003 665 116 64 4491 2007–08 1668 1149 1017 854 116 81 4885 2008–09 2388 1523 1095 1021 116 87 6230 2009–10 2972 1940 1169 1081 106 93 7361 2010–11 3222 2262 1198 1114 108 100 8004 2011–12 3393 2385 1228 1137 116 102 8361 2012–13 3495 2450 1241 1145 126 105 8562 2013–14 3384 2450 1241 1031 105 81 8562 2014–15 3392 2450 1241 1025 114 77 8562 2015–16 3364 2450 1241 1027 117 77 8562 2016–17 3288 2450 1241 1034 115 74\\n\\nGrowth of Seats in different Programs in Technical Institutions[10]\\n\\nYear Engineering Management MCA Pharmacy Architecture HMCT Total 2005–06 499697 – – 32708 4379 4435 541219 2006–07 550986 94704 56805 39517 4543 4242 750797 2007–08 653290 121867 70513 52334 4543 5275 907822 2008–09 841018 149555 73995 64211 4543 5794 1139116 2009–10 1071896 179561 78293 68537 4133 6387 1408807 2010–11 1314594 277811 87216 98746 4991 7393 1790751 2011–12 1485894 352571 92216 102746 5491 7693 2046611 2012–13 1761976 385008 100700 121652 5996 8401 2236743\\n\\nReforms [ edit ]\\n\\nIn 2016, three important initiatives were taken up by AICTE.', 'First one was a responsibility given by MHRD to evolve a national MOOCs platform SWAYAM.', 'Second one is that of launching a Smart India Hackathon-2017 challenging the young bright talented students of technical colleges to solve the 598 problems of 29 different Government departments.', \"Third one is that of launching of an AICTE's Student Start up Policy by Hon.\", 'President on 16 Nov, during visitors conference from rashtrapati Bhavan.', 'In 2009, the Union Minister of Education formally communicated his intentions of closing down AICTE and related body, the University Grants Commission (UGC).', '[11] This later led to reforms in the way the AICTE approves institutes, and to establishing the National Board of Accreditation (NBA) as an independent body.', '[12]\\n\\nOn 6 June 2017, Prime Minister Narendra Modi announced that the AICTE along with the University Grants Commission would be scrapped and replaced by a new body called Heera (Higher Education Empowerment Regulation Agency (HEERA).', '[13] This has been done in a bid to simplify the excessive regulations that exist due to both these bodies.', 'According to the draft of law backed on the ideas of NITI Aayog and the Prime Minister Office, the National Council for Teacher Education was also planned to be subsumed by HEERA.', '[14]\\n\\nSee also [ edit ]']\n"
          ]
        }
      ]
    },
    {
      "cell_type": "code",
      "source": [
        "#A function to return a random greeting response to a users greeting\n",
        "def greeting_response(text):\n",
        "  text=text.lower()\n",
        "\n",
        "  #bots greeting response\n",
        "  bot_greetings=[\"hii\",\"hello\",\"hey\",\"helo\"]\n",
        "  #users greeting\n",
        "  user_greetings=[\"hii\",\"hello\",\"hey\",\"helo\",\"greetings\",\"whatsup\"]\n",
        "  for word in text.split():\n",
        "    if word in user_greetings:\n",
        "      return random.choice(bot_greetings)"
      ],
      "metadata": {
        "id": "u-Wgom9TFzqB"
      },
      "execution_count": 41,
      "outputs": []
    },
    {
      "cell_type": "code",
      "source": [
        "def index_sort(list_var):\n",
        "    lenght=len(list_var)\n",
        "    list_index=list(range(0,lenght))\n",
        "\n",
        "    x=list_var\n",
        "    for i in range(lenght):\n",
        "        for j in range(lenght):\n",
        "            if x[list_index[i]]>x[list_index[j]]:\n",
        "                #swap\n",
        "                temp=list_index[i]\n",
        "                list_index[i]=list_index[j]\n",
        "                list_index[j]=temp\n",
        "    return list_index\n",
        "\n",
        "\n"
      ],
      "metadata": {
        "id": "rQMG6hY-JSER"
      },
      "execution_count": 42,
      "outputs": []
    },
    {
      "cell_type": "code",
      "source": [
        "#Create the bots response\n",
        "def bot_response(user_input):\n",
        "  user_input=user_input.lower()\n",
        "  sentence_list.append(user_input)\n",
        "  bot_response=''\n",
        "  cm=CountVectorizer().fit_transform(sentence_list)\n",
        "  similarity_scores=cosine_similarity(cm[-1],cm)\n",
        "  similarity_scores_list=similarity_scores.flatten()\n",
        "  index=index_sort(similarity_scores_list)\n",
        "  index=index[1:]\n",
        "  response_flag=0\n",
        "\n",
        "  j=0\n",
        "  for i in range(len(index)):\n",
        "    if similarity_scores_list[index[i]]>0.0:\n",
        "      bot_response=bot_response+''+sentence_list[index[i]]\n",
        "      response_flag=1\n",
        "      j=j+1\n",
        "    if j>2:\n",
        "      break\n",
        "  if response_flag==0:\n",
        "    bot_response=bot_response+''+'I apologize,I dont understand what you are trying to say.'\n",
        "  sentence_list.remove(user_input)\n",
        "\n",
        "  return bot_response\n",
        "  "
      ],
      "metadata": {
        "id": "Ua7XlODgHLmH"
      },
      "execution_count": 43,
      "outputs": []
    },
    {
      "cell_type": "code",
      "source": [
        "#Start the chat\n",
        "print(\"AICTE Bot:I am AICTE Bot\")\n",
        "exit_list=['exit','see you later','bye','quit','break']\n",
        "while(True):\n",
        "    user_input = input()\n",
        "    if user_input.lower() in exit_list:\n",
        "        print('AICTE Bot: Nice talking wiht you')\n",
        "        break\n",
        "    else:\n",
        "        if greeting_response(user_input)!=None:\n",
        "            print('AICTE Bot: '+greeting_response(user_input))\n",
        "        \n",
        "        else:\n",
        "          print('AICTE Bot:'+bot_response(user_input))\n"
      ],
      "metadata": {
        "colab": {
          "base_uri": "https://localhost:8080/"
        },
        "id": "U523VLzXalSd",
        "outputId": "c40f518f-77fc-471e-fbdd-2efbbc072806"
      },
      "execution_count": null,
      "outputs": [
        {
          "metadata": {
            "tags": null
          },
          "name": "stdout",
          "output_type": "stream",
          "text": [
            "AICTE Bot:I am AICTE Bot\n",
            "AICTE Bot: helo\n",
            "AICTE Bot: hii\n",
            "AICTE Bot:AICTE bureaus [ edit ]\n",
            "\n",
            "The AICTE is composed of the e-Governance, Approval, Planning and Coordination, Academic, University, Administration, Finance, and Research, Institutional and Faculty Development Bureaus.Third one is that of launching of an AICTE's Student Start up Policy by Hon.For each bureau, adviser is the bureau head who is assisted by technical officers and other supporting staff.\n",
            "AICTE Bot:Second one is that of launching a Smart India Hackathon-2017 challenging the young bright talented students of technical colleges to solve the 598 problems of 29 different Government departments.AICTE bureaus [ edit ]\n",
            "\n",
            "The AICTE is composed of the e-Governance, Approval, Planning and Coordination, Academic, University, Administration, Finance, and Research, Institutional and Faculty Development Bureaus.Third one is that of launching of an AICTE's Student Start up Policy by Hon.\n",
            "AICTE Bot:Second one is that of launching a Smart India Hackathon-2017 challenging the young bright talented students of technical colleges to solve the 598 problems of 29 different Government departments.AICTE bureaus [ edit ]\n",
            "\n",
            "The AICTE is composed of the e-Governance, Approval, Planning and Coordination, Academic, University, Administration, Finance, and Research, Institutional and Faculty Development Bureaus.Third one is that of launching of an AICTE's Student Start up Policy by Hon.\n",
            "AICTE Bot:Third one is that of launching of an AICTE's Student Start up Policy by Hon.AICTE bureaus [ edit ]\n",
            "\n",
            "The AICTE is composed of the e-Governance, Approval, Planning and Coordination, Academic, University, Administration, Finance, and Research, Institutional and Faculty Development Bureaus.[12]\n",
            "\n",
            "On 6 June 2017, Prime Minister Narendra Modi announced that the AICTE along with the University Grants Commission would be scrapped and replaced by a new body called Heera (Higher Education Empowerment Regulation Agency (HEERA).\n",
            "AICTE Bot:[12]\n",
            "\n",
            "On 6 June 2017, Prime Minister Narendra Modi announced that the AICTE along with the University Grants Commission would be scrapped and replaced by a new body called Heera (Higher Education Empowerment Regulation Agency (HEERA).According to the draft of law backed on the ideas of NITI Aayog and the Prime Minister Office, the National Council for Teacher Education was also planned to be subsumed by HEERA.In 2009, the Union Minister of Education formally communicated his intentions of closing down AICTE and related body, the University Grants Commission (UGC).\n",
            "AICTE Bot:[12]\n",
            "\n",
            "On 6 June 2017, Prime Minister Narendra Modi announced that the AICTE along with the University Grants Commission would be scrapped and replaced by a new body called Heera (Higher Education Empowerment Regulation Agency (HEERA).According to the draft of law backed on the ideas of NITI Aayog and the Prime Minister Office, the National Council for Teacher Education was also planned to be subsumed by HEERA.\n",
            "AICTE Bot:\"[8]\n",
            "\n",
            "Objectives [ edit ]\n",
            "\n",
            "According to the All India Council for Technical Education, 1987, the AICTE is vested with statutory authority for planning, formulation and maintenance of norms and standards, quality assurance through school accreditation, funding in priority areas, monitoring and evaluation, maintaining parity of certification and awards and ensuring coordinated and integrated development and management of technical education in the country.[11] This later led to reforms in the way the AICTE approves institutes, and to establishing the National Board of Accreditation (NBA) as an independent body.\n"
          ]
        }
      ]
    }
  ]
}